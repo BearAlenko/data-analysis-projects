{
 "cells": [
  {
   "cell_type": "markdown",
   "id": "2078be07",
   "metadata": {},
   "source": [
    "# Zomato Data Analysis"
   ]
  },
  {
   "cell_type": "code",
   "execution_count": 13,
   "id": "f88e6d52",
   "metadata": {},
   "outputs": [],
   "source": [
    "import sqlite3\n",
    "import pandas as pd\n",
    "import numpy as np\n",
    "import matplotlib.pyplot as plt\n",
    "import seaborn as sns"
   ]
  },
  {
   "cell_type": "markdown",
   "id": "938b51d3",
   "metadata": {},
   "source": [
    "## Read Data"
   ]
  },
  {
   "cell_type": "code",
   "execution_count": 2,
   "id": "1fcb48d7",
   "metadata": {},
   "outputs": [],
   "source": [
    "con = sqlite3.connect('.\\zomato_rawdata.sqlite')"
   ]
  },
  {
   "cell_type": "code",
   "execution_count": 6,
   "id": "948529de",
   "metadata": {},
   "outputs": [],
   "source": [
    "df = pd.read_sql_query(\"select * from Users\", con)"
   ]
  },
  {
   "cell_type": "markdown",
   "id": "b55953bd",
   "metadata": {},
   "source": [
    "## Data Cleaning"
   ]
  },
  {
   "cell_type": "code",
   "execution_count": 8,
   "id": "2b8493ba",
   "metadata": {},
   "outputs": [
    {
     "data": {
      "text/plain": [
       "index                              0\n",
       "url                                0\n",
       "address                            0\n",
       "name                               0\n",
       "online_order                       0\n",
       "book_table                         0\n",
       "rate                            7775\n",
       "votes                              0\n",
       "phone                           1208\n",
       "location                          21\n",
       "rest_type                        227\n",
       "dish_liked                     28078\n",
       "cuisines                          45\n",
       "approx_cost(for two people)      346\n",
       "reviews_list                       0\n",
       "menu_item                          0\n",
       "listed_in(type)                    0\n",
       "listed_in(city)                    0\n",
       "dtype: int64"
      ]
     },
     "execution_count": 8,
     "metadata": {},
     "output_type": "execute_result"
    }
   ],
   "source": [
    "df.isnull().sum()"
   ]
  },
  {
   "cell_type": "code",
   "execution_count": 11,
   "id": "65d5cc76",
   "metadata": {},
   "outputs": [
    {
     "data": {
      "text/plain": [
       "index                          0.000000\n",
       "url                            0.000000\n",
       "address                        0.000000\n",
       "name                           0.000000\n",
       "online_order                   0.000000\n",
       "book_table                     0.000000\n",
       "rate                           0.150337\n",
       "votes                          0.000000\n",
       "phone                          0.023358\n",
       "location                       0.000406\n",
       "rest_type                      0.004389\n",
       "dish_liked                     0.542916\n",
       "cuisines                       0.000870\n",
       "approx_cost(for two people)    0.006690\n",
       "reviews_list                   0.000000\n",
       "menu_item                      0.000000\n",
       "listed_in(type)                0.000000\n",
       "listed_in(city)                0.000000\n",
       "dtype: float64"
      ]
     },
     "execution_count": 11,
     "metadata": {},
     "output_type": "execute_result"
    }
   ],
   "source": [
    "df.isnull().sum()/len(df)"
   ]
  },
  {
   "cell_type": "code",
   "execution_count": 12,
   "id": "bdc7b037",
   "metadata": {},
   "outputs": [
    {
     "data": {
      "text/plain": [
       "array(['4.1/5', '3.8/5', '3.7/5', '3.6/5', '4.6/5', '4.0/5', '4.2/5',\n",
       "       '3.9/5', '3.1/5', '3.0/5', '3.2/5', '3.3/5', '2.8/5', '4.4/5',\n",
       "       '4.3/5', 'NEW', '2.9/5', '3.5/5', None, '2.6/5', '3.8 /5', '3.4/5',\n",
       "       '4.5/5', '2.5/5', '2.7/5', '4.7/5', '2.4/5', '2.2/5', '2.3/5',\n",
       "       '3.4 /5', '-', '3.6 /5', '4.8/5', '3.9 /5', '4.2 /5', '4.0 /5',\n",
       "       '4.1 /5', '3.7 /5', '3.1 /5', '2.9 /5', '3.3 /5', '2.8 /5',\n",
       "       '3.5 /5', '2.7 /5', '2.5 /5', '3.2 /5', '2.6 /5', '4.5 /5',\n",
       "       '4.3 /5', '4.4 /5', '4.9/5', '2.1/5', '2.0/5', '1.8/5', '4.6 /5',\n",
       "       '4.9 /5', '3.0 /5', '4.8 /5', '2.3 /5', '4.7 /5', '2.4 /5',\n",
       "       '2.1 /5', '2.2 /5', '2.0 /5', '1.8 /5'], dtype=object)"
      ]
     },
     "execution_count": 12,
     "metadata": {},
     "output_type": "execute_result"
    }
   ],
   "source": [
    "df['rate'].unique()"
   ]
  },
  {
   "cell_type": "code",
   "execution_count": 16,
   "id": "9d35c8ec",
   "metadata": {},
   "outputs": [],
   "source": [
    "df['rate'].replace(('NEW', '-'), np.nan, inplace = True)"
   ]
  },
  {
   "cell_type": "code",
   "execution_count": 17,
   "id": "51681130",
   "metadata": {},
   "outputs": [
    {
     "data": {
      "text/plain": [
       "array(['4.1/5', '3.8/5', '3.7/5', '3.6/5', '4.6/5', '4.0/5', '4.2/5',\n",
       "       '3.9/5', '3.1/5', '3.0/5', '3.2/5', '3.3/5', '2.8/5', '4.4/5',\n",
       "       '4.3/5', nan, '2.9/5', '3.5/5', None, '2.6/5', '3.8 /5', '3.4/5',\n",
       "       '4.5/5', '2.5/5', '2.7/5', '4.7/5', '2.4/5', '2.2/5', '2.3/5',\n",
       "       '3.4 /5', '3.6 /5', '4.8/5', '3.9 /5', '4.2 /5', '4.0 /5',\n",
       "       '4.1 /5', '3.7 /5', '3.1 /5', '2.9 /5', '3.3 /5', '2.8 /5',\n",
       "       '3.5 /5', '2.7 /5', '2.5 /5', '3.2 /5', '2.6 /5', '4.5 /5',\n",
       "       '4.3 /5', '4.4 /5', '4.9/5', '2.1/5', '2.0/5', '1.8/5', '4.6 /5',\n",
       "       '4.9 /5', '3.0 /5', '4.8 /5', '2.3 /5', '4.7 /5', '2.4 /5',\n",
       "       '2.1 /5', '2.2 /5', '2.0 /5', '1.8 /5'], dtype=object)"
      ]
     },
     "execution_count": 17,
     "metadata": {},
     "output_type": "execute_result"
    }
   ],
   "source": [
    "df['rate'].unique()"
   ]
  },
  {
   "cell_type": "markdown",
   "id": "9f8ea74a",
   "metadata": {},
   "source": [
    "## Find the relationship between Online_Order and Rating"
   ]
  },
  {
   "cell_type": "code",
   "execution_count": 26,
   "id": "559b51b5",
   "metadata": {},
   "outputs": [],
   "source": [
    "df['rate'] = df['rate'].apply(lambda x: float(x.split('/')[0]) if type(x)==str else x)"
   ]
  },
  {
   "cell_type": "code",
   "execution_count": 82,
   "id": "d027943a",
   "metadata": {},
   "outputs": [
    {
     "name": "stderr",
     "output_type": "stream",
     "text": [
      "E:\\anaconda3\\Lib\\site-packages\\seaborn\\axisgrid.py:118: UserWarning: The figure layout has changed to tight\n",
      "  self._figure.tight_layout(*args, **kwargs)\n"
     ]
    },
    {
     "data": {
      "text/plain": [
       "<seaborn.axisgrid.FacetGrid at 0x212b14cf090>"
      ]
     },
     "execution_count": 82,
     "metadata": {},
     "output_type": "execute_result"
    },
    {
     "data": {
      "image/png": "[encoded data removed]",
      "text/plain": [
       "<Figure size 597.486x500 with 1 Axes>"
      ]
     },
     "metadata": {},
     "output_type": "display_data"
    }
   ],
   "source": [
    "sns.displot(data = df, x = 'rate', hue = 'online_order', multiple = 'stack', bins = 30)"
   ]
  },
  {
   "cell_type": "code",
   "execution_count": 85,
   "id": "56ec0b2d",
   "metadata": {},
   "outputs": [
    {
     "data": {
      "text/plain": [
       "<Axes: xlabel='online_order', ylabel='rate'>"
      ]
     },
     "execution_count": 85,
     "metadata": {},
     "output_type": "execute_result"
    },
    {
     "data": {
      "image/png": "[encoded data removed]",
      "text/plain": [
       "<Figure size 640x480 with 1 Axes>"
      ]
     },
     "metadata": {},
     "output_type": "display_data"
    }
   ],
   "source": [
    "sns.boxplot(data = df, x = 'online_order', y = 'rate', showfliers = False)"
   ]
  },
  {
   "cell_type": "code",
   "execution_count": 27,
   "id": "6f86c8fd",
   "metadata": {},
   "outputs": [],
   "source": [
    "x = pd.crosstab(df['rate'], df['online_order'])"
   ]
  },
  {
   "cell_type": "code",
   "execution_count": 28,
   "id": "cd7a7f99",
   "metadata": {},
   "outputs": [
    {
     "data": {
      "text/html": [
       "<div>\n",
       "<style scoped>\n",
       "    .dataframe tbody tr th:only-of-type {\n",
       "        vertical-align: middle;\n",
       "    }\n",
       "\n",
       "    .dataframe tbody tr th {\n",
       "        vertical-align: top;\n",
       "    }\n",
       "\n",
       "    .dataframe thead th {\n",
       "        text-align: right;\n",
       "    }\n",
       "</style>\n",
       "<table border=\"1\" class=\"dataframe\">\n",
       "  <thead>\n",
       "    <tr style=\"text-align: right;\">\n",
       "      <th>online_order</th>\n",
       "      <th>No</th>\n",
       "      <th>Yes</th>\n",
       "    </tr>\n",
       "    <tr>\n",
       "      <th>rate</th>\n",
       "      <th></th>\n",
       "      <th></th>\n",
       "    </tr>\n",
       "  </thead>\n",
       "  <tbody>\n",
       "    <tr>\n",
       "      <th>1.8</th>\n",
       "      <td>5</td>\n",
       "      <td>0</td>\n",
       "    </tr>\n",
       "    <tr>\n",
       "      <th>2.0</th>\n",
       "      <td>11</td>\n",
       "      <td>0</td>\n",
       "    </tr>\n",
       "    <tr>\n",
       "      <th>2.1</th>\n",
       "      <td>9</td>\n",
       "      <td>15</td>\n",
       "    </tr>\n",
       "    <tr>\n",
       "      <th>2.2</th>\n",
       "      <td>10</td>\n",
       "      <td>16</td>\n",
       "    </tr>\n",
       "    <tr>\n",
       "      <th>2.3</th>\n",
       "      <td>29</td>\n",
       "      <td>22</td>\n",
       "    </tr>\n",
       "    <tr>\n",
       "      <th>2.4</th>\n",
       "      <td>36</td>\n",
       "      <td>34</td>\n",
       "    </tr>\n",
       "    <tr>\n",
       "      <th>2.5</th>\n",
       "      <td>38</td>\n",
       "      <td>63</td>\n",
       "    </tr>\n",
       "    <tr>\n",
       "      <th>2.6</th>\n",
       "      <td>83</td>\n",
       "      <td>177</td>\n",
       "    </tr>\n",
       "    <tr>\n",
       "      <th>2.7</th>\n",
       "      <td>141</td>\n",
       "      <td>166</td>\n",
       "    </tr>\n",
       "    <tr>\n",
       "      <th>2.8</th>\n",
       "      <td>224</td>\n",
       "      <td>376</td>\n",
       "    </tr>\n",
       "    <tr>\n",
       "      <th>2.9</th>\n",
       "      <td>314</td>\n",
       "      <td>488</td>\n",
       "    </tr>\n",
       "    <tr>\n",
       "      <th>3.0</th>\n",
       "      <td>439</td>\n",
       "      <td>584</td>\n",
       "    </tr>\n",
       "    <tr>\n",
       "      <th>3.1</th>\n",
       "      <td>587</td>\n",
       "      <td>974</td>\n",
       "    </tr>\n",
       "    <tr>\n",
       "      <th>3.2</th>\n",
       "      <td>829</td>\n",
       "      <td>1044</td>\n",
       "    </tr>\n",
       "    <tr>\n",
       "      <th>3.3</th>\n",
       "      <td>1137</td>\n",
       "      <td>1173</td>\n",
       "    </tr>\n",
       "    <tr>\n",
       "      <th>3.4</th>\n",
       "      <td>1024</td>\n",
       "      <td>1452</td>\n",
       "    </tr>\n",
       "    <tr>\n",
       "      <th>3.5</th>\n",
       "      <td>1090</td>\n",
       "      <td>1694</td>\n",
       "    </tr>\n",
       "    <tr>\n",
       "      <th>3.6</th>\n",
       "      <td>1090</td>\n",
       "      <td>2226</td>\n",
       "    </tr>\n",
       "    <tr>\n",
       "      <th>3.7</th>\n",
       "      <td>1172</td>\n",
       "      <td>2649</td>\n",
       "    </tr>\n",
       "    <tr>\n",
       "      <th>3.8</th>\n",
       "      <td>1147</td>\n",
       "      <td>2726</td>\n",
       "    </tr>\n",
       "    <tr>\n",
       "      <th>3.9</th>\n",
       "      <td>1017</td>\n",
       "      <td>2955</td>\n",
       "    </tr>\n",
       "    <tr>\n",
       "      <th>4.0</th>\n",
       "      <td>874</td>\n",
       "      <td>2309</td>\n",
       "    </tr>\n",
       "    <tr>\n",
       "      <th>4.1</th>\n",
       "      <td>843</td>\n",
       "      <td>2105</td>\n",
       "    </tr>\n",
       "    <tr>\n",
       "      <th>4.2</th>\n",
       "      <td>648</td>\n",
       "      <td>1536</td>\n",
       "    </tr>\n",
       "    <tr>\n",
       "      <th>4.3</th>\n",
       "      <td>692</td>\n",
       "      <td>1001</td>\n",
       "    </tr>\n",
       "    <tr>\n",
       "      <th>4.4</th>\n",
       "      <td>374</td>\n",
       "      <td>773</td>\n",
       "    </tr>\n",
       "    <tr>\n",
       "      <th>4.5</th>\n",
       "      <td>297</td>\n",
       "      <td>359</td>\n",
       "    </tr>\n",
       "    <tr>\n",
       "      <th>4.6</th>\n",
       "      <td>140</td>\n",
       "      <td>160</td>\n",
       "    </tr>\n",
       "    <tr>\n",
       "      <th>4.7</th>\n",
       "      <td>113</td>\n",
       "      <td>54</td>\n",
       "    </tr>\n",
       "    <tr>\n",
       "      <th>4.8</th>\n",
       "      <td>34</td>\n",
       "      <td>32</td>\n",
       "    </tr>\n",
       "    <tr>\n",
       "      <th>4.9</th>\n",
       "      <td>12</td>\n",
       "      <td>43</td>\n",
       "    </tr>\n",
       "  </tbody>\n",
       "</table>\n",
       "</div>"
      ],
      "text/plain": [
       "online_order    No   Yes\n",
       "rate                    \n",
       "1.8              5     0\n",
       "2.0             11     0\n",
       "2.1              9    15\n",
       "2.2             10    16\n",
       "2.3             29    22\n",
       "2.4             36    34\n",
       "2.5             38    63\n",
       "2.6             83   177\n",
       "2.7            141   166\n",
       "2.8            224   376\n",
       "2.9            314   488\n",
       "3.0            439   584\n",
       "3.1            587   974\n",
       "3.2            829  1044\n",
       "3.3           1137  1173\n",
       "3.4           1024  1452\n",
       "3.5           1090  1694\n",
       "3.6           1090  2226\n",
       "3.7           1172  2649\n",
       "3.8           1147  2726\n",
       "3.9           1017  2955\n",
       "4.0            874  2309\n",
       "4.1            843  2105\n",
       "4.2            648  1536\n",
       "4.3            692  1001\n",
       "4.4            374   773\n",
       "4.5            297   359\n",
       "4.6            140   160\n",
       "4.7            113    54\n",
       "4.8             34    32\n",
       "4.9             12    43"
      ]
     },
     "execution_count": 28,
     "metadata": {},
     "output_type": "execute_result"
    }
   ],
   "source": [
    "x"
   ]
  },
  {
   "cell_type": "code",
   "execution_count": 29,
   "id": "03d6d4ed",
   "metadata": {},
   "outputs": [
    {
     "data": {
      "text/plain": [
       "<Axes: xlabel='rate'>"
      ]
     },
     "execution_count": 29,
     "metadata": {},
     "output_type": "execute_result"
    },
    {
     "data": {
      "image/png": "[encoded data removed]",
      "text/plain": [
       "<Figure size 640x480 with 1 Axes>"
      ]
     },
     "metadata": {},
     "output_type": "display_data"
    }
   ],
   "source": [
    "x.plot(kind = 'bar', stacked=True)"
   ]
  },
  {
   "cell_type": "code",
   "execution_count": 31,
   "id": "f3beb0a8",
   "metadata": {},
   "outputs": [
    {
     "data": {
      "text/plain": [
       "rate\n",
       "1.8       5.0\n",
       "2.0      11.0\n",
       "2.1      24.0\n",
       "2.2      26.0\n",
       "2.3      51.0\n",
       "2.4      70.0\n",
       "2.5     101.0\n",
       "2.6     260.0\n",
       "2.7     307.0\n",
       "2.8     600.0\n",
       "2.9     802.0\n",
       "3.0    1023.0\n",
       "3.1    1561.0\n",
       "3.2    1873.0\n",
       "3.3    2310.0\n",
       "3.4    2476.0\n",
       "3.5    2784.0\n",
       "3.6    3316.0\n",
       "3.7    3821.0\n",
       "3.8    3873.0\n",
       "3.9    3972.0\n",
       "4.0    3183.0\n",
       "4.1    2948.0\n",
       "4.2    2184.0\n",
       "4.3    1693.0\n",
       "4.4    1147.0\n",
       "4.5     656.0\n",
       "4.6     300.0\n",
       "4.7     167.0\n",
       "4.8      66.0\n",
       "4.9      55.0\n",
       "dtype: float64"
      ]
     },
     "execution_count": 31,
     "metadata": {},
     "output_type": "execute_result"
    }
   ],
   "source": [
    "x.sum(axis = 1).astype(float)"
   ]
  },
  {
   "cell_type": "code",
   "execution_count": 36,
   "id": "65a10a6a",
   "metadata": {},
   "outputs": [],
   "source": [
    "normalized_df = x.div(x.sum(axis = 1).astype(float), axis = 0)*100"
   ]
  },
  {
   "cell_type": "code",
   "execution_count": 37,
   "id": "afffee98",
   "metadata": {},
   "outputs": [
    {
     "data": {
      "text/plain": [
       "<Axes: xlabel='rate'>"
      ]
     },
     "execution_count": 37,
     "metadata": {},
     "output_type": "execute_result"
    },
    {
     "data": {
      "image/png": "[encoded data removed]",
      "text/plain": [
       "<Figure size 640x480 with 1 Axes>"
      ]
     },
     "metadata": {},
     "output_type": "display_data"
    }
   ],
   "source": [
    "normalized_df.plot(kind = 'bar', stacked = True)"
   ]
  },
  {
   "cell_type": "markdown",
   "id": "2740a0ea",
   "metadata": {},
   "source": [
    "## Clean Text"
   ]
  },
  {
   "cell_type": "code",
   "execution_count": 38,
   "id": "9962a732",
   "metadata": {},
   "outputs": [
    {
     "data": {
      "text/plain": [
       "227"
      ]
     },
     "execution_count": 38,
     "metadata": {},
     "output_type": "execute_result"
    }
   ],
   "source": [
    "df['rest_type'].isnull().sum()"
   ]
  },
  {
   "cell_type": "code",
   "execution_count": 39,
   "id": "a6809f01",
   "metadata": {},
   "outputs": [],
   "source": [
    "data = df.dropna(subset = ['rest_type'])"
   ]
  },
  {
   "cell_type": "code",
   "execution_count": 40,
   "id": "0fbc9f89",
   "metadata": {},
   "outputs": [
    {
     "data": {
      "text/plain": [
       "array(['Casual Dining', 'Cafe, Casual Dining', 'Quick Bites',\n",
       "       'Casual Dining, Cafe', 'Cafe', 'Quick Bites, Cafe',\n",
       "       'Cafe, Quick Bites', 'Delivery', 'Mess', 'Dessert Parlor',\n",
       "       'Bakery, Dessert Parlor', 'Pub', 'Bakery', 'Takeaway, Delivery',\n",
       "       'Fine Dining', 'Beverage Shop', 'Sweet Shop', 'Bar',\n",
       "       'Beverage Shop, Quick Bites', 'Confectionery',\n",
       "       'Quick Bites, Beverage Shop', 'Dessert Parlor, Sweet Shop',\n",
       "       'Bakery, Quick Bites', 'Sweet Shop, Quick Bites', 'Kiosk',\n",
       "       'Food Truck', 'Quick Bites, Dessert Parlor',\n",
       "       'Beverage Shop, Dessert Parlor', 'Takeaway', 'Pub, Casual Dining',\n",
       "       'Casual Dining, Bar', 'Dessert Parlor, Beverage Shop',\n",
       "       'Quick Bites, Bakery', 'Dessert Parlor, Quick Bites',\n",
       "       'Microbrewery, Casual Dining', 'Lounge', 'Bar, Casual Dining',\n",
       "       'Food Court', 'Cafe, Bakery', 'Dhaba', 'Quick Bites, Sweet Shop',\n",
       "       'Microbrewery', 'Food Court, Quick Bites', 'Pub, Bar',\n",
       "       'Casual Dining, Pub', 'Lounge, Bar', 'Food Court, Dessert Parlor',\n",
       "       'Casual Dining, Sweet Shop', 'Food Court, Casual Dining',\n",
       "       'Casual Dining, Microbrewery', 'Sweet Shop, Dessert Parlor',\n",
       "       'Bakery, Beverage Shop', 'Lounge, Casual Dining',\n",
       "       'Cafe, Food Court', 'Beverage Shop, Cafe', 'Cafe, Dessert Parlor',\n",
       "       'Dessert Parlor, Cafe', 'Dessert Parlor, Bakery',\n",
       "       'Microbrewery, Pub', 'Bakery, Food Court', 'Club',\n",
       "       'Quick Bites, Food Court', 'Bakery, Cafe', 'Bar, Cafe',\n",
       "       'Pub, Cafe', 'Casual Dining, Irani Cafee', 'Fine Dining, Lounge',\n",
       "       'Bar, Quick Bites', 'Bakery, Kiosk', 'Pub, Microbrewery',\n",
       "       'Microbrewery, Lounge', 'Fine Dining, Microbrewery',\n",
       "       'Fine Dining, Bar', 'Mess, Quick Bites', 'Dessert Parlor, Kiosk',\n",
       "       'Bhojanalya', 'Casual Dining, Quick Bites', 'Pop Up', 'Cafe, Bar',\n",
       "       'Casual Dining, Lounge', 'Bakery, Sweet Shop', 'Microbrewery, Bar',\n",
       "       'Cafe, Lounge', 'Bar, Pub', 'Lounge, Cafe', 'Club, Casual Dining',\n",
       "       'Quick Bites, Mess', 'Quick Bites, Meat Shop',\n",
       "       'Quick Bites, Kiosk', 'Lounge, Microbrewery',\n",
       "       'Food Court, Beverage Shop', 'Dessert Parlor, Food Court',\n",
       "       'Bar, Lounge'], dtype=object)"
      ]
     },
     "execution_count": 40,
     "metadata": {},
     "output_type": "execute_result"
    }
   ],
   "source": [
    "data['rest_type'].unique()"
   ]
  },
  {
   "cell_type": "code",
   "execution_count": 42,
   "id": "bec95521",
   "metadata": {},
   "outputs": [],
   "source": [
    "quick_bites_df = data[data['rest_type'].str.contains('Quick Bites')]"
   ]
  },
  {
   "cell_type": "code",
   "execution_count": 43,
   "id": "704f4b3b",
   "metadata": {},
   "outputs": [
    {
     "data": {
      "text/plain": [
       "(20639, 18)"
      ]
     },
     "execution_count": 43,
     "metadata": {},
     "output_type": "execute_result"
    }
   ],
   "source": [
    "quick_bites_df.shape"
   ]
  },
  {
   "cell_type": "code",
   "execution_count": 44,
   "id": "e27da046",
   "metadata": {},
   "outputs": [
    {
     "data": {
      "text/plain": [
       "Index(['index', 'url', 'address', 'name', 'online_order', 'book_table', 'rate',\n",
       "       'votes', 'phone', 'location', 'rest_type', 'dish_liked', 'cuisines',\n",
       "       'approx_cost(for two people)', 'reviews_list', 'menu_item',\n",
       "       'listed_in(type)', 'listed_in(city)'],\n",
       "      dtype='object')"
      ]
     },
     "execution_count": 44,
     "metadata": {},
     "output_type": "execute_result"
    }
   ],
   "source": [
    "quick_bites_df.columns"
   ]
  },
  {
   "cell_type": "code",
   "execution_count": 45,
   "id": "72cbcc6c",
   "metadata": {},
   "outputs": [
    {
     "data": {
      "text/plain": [
       "3        [('Rated 4.0', \"RATED\\n  Great food and proper...\n",
       "23       [('Rated 4.0', \"RATED\\n  So, went here with fr...\n",
       "26       [('Rated 5.0', 'RATED\\n  please provide some e...\n",
       "31       [('Rated 1.0', \"RATED\\n  Worst restaurant ever...\n",
       "34       [('Rated 3.0', 'RATED\\n  Not worth for the mon...\n",
       "                               ...                        \n",
       "51641    [('Rated 2.0', \"RATED\\n  Food is not upto the ...\n",
       "51642                                                   []\n",
       "51643                                                   []\n",
       "51644                                                   []\n",
       "51645    [('Rated 5.0', \"RATED\\n  I was randomly lookin...\n",
       "Name: reviews_list, Length: 20639, dtype: object"
      ]
     },
     "execution_count": 45,
     "metadata": {},
     "output_type": "execute_result"
    }
   ],
   "source": [
    "quick_bites_df['reviews_list']"
   ]
  },
  {
   "cell_type": "code",
   "execution_count": 46,
   "id": "0536b392",
   "metadata": {},
   "outputs": [
    {
     "name": "stderr",
     "output_type": "stream",
     "text": [
      "C:\\Users\\Zehao Zhu\\AppData\\Local\\Temp\\ipykernel_34684\\990775181.py:1: SettingWithCopyWarning: \n",
      "A value is trying to be set on a copy of a slice from a DataFrame.\n",
      "Try using .loc[row_indexer,col_indexer] = value instead\n",
      "\n",
      "See the caveats in the documentation: https://pandas.pydata.org/pandas-docs/stable/user_guide/indexing.html#returning-a-view-versus-a-copy\n",
      "  quick_bites_df['reviews_list'] = quick_bites_df['reviews_list'].apply(lambda x: x.lower())\n"
     ]
    }
   ],
   "source": [
    "quick_bites_df['reviews_list'] = quick_bites_df['reviews_list'].apply(lambda x: x.lower())"
   ]
  },
  {
   "cell_type": "code",
   "execution_count": 64,
   "id": "8c2b885a",
   "metadata": {},
   "outputs": [],
   "source": [
    "from nltk.corpus import RegexpTokenizer\n",
    "from nltk.corpus import stopwords\n",
    "from nltk import FreqDist"
   ]
  },
  {
   "cell_type": "code",
   "execution_count": 48,
   "id": "0d67a688",
   "metadata": {},
   "outputs": [],
   "source": [
    "tokenizer = RegexpTokenizer(\"[a-zA-Z]+\")"
   ]
  },
  {
   "cell_type": "code",
   "execution_count": 50,
   "id": "93e69ecf",
   "metadata": {},
   "outputs": [],
   "source": [
    "sample = data.sample(n=10000)"
   ]
  },
  {
   "cell_type": "code",
   "execution_count": 52,
   "id": "cabba7a1",
   "metadata": {},
   "outputs": [],
   "source": [
    "reviews_tokens = sample['reviews_list'].apply(tokenizer.tokenize)"
   ]
  },
  {
   "cell_type": "code",
   "execution_count": 59,
   "id": "d7c4cca0",
   "metadata": {},
   "outputs": [],
   "source": [
    "stop = stopwords.words('english')"
   ]
  },
  {
   "cell_type": "code",
   "execution_count": 60,
   "id": "46a55adc",
   "metadata": {},
   "outputs": [],
   "source": [
    "stop.extend(['rated', 'n', 'nan', 'x', 'RATED', 'Rated'])"
   ]
  },
  {
   "cell_type": "code",
   "execution_count": 61,
   "id": "63d6abf8",
   "metadata": {},
   "outputs": [],
   "source": [
    "reviews_tokens_clean = reviews_tokens.apply(lambda each_review: [token for token in each_review if token not in stop])"
   ]
  },
  {
   "cell_type": "markdown",
   "id": "0df45f77",
   "metadata": {},
   "source": [
    "## Plot Word Counts of Quick Bites"
   ]
  },
  {
   "cell_type": "code",
   "execution_count": 86,
   "id": "10fdb40b",
   "metadata": {},
   "outputs": [],
   "source": [
    "total_reviews = list(reviews_tokens_clean)"
   ]
  },
  {
   "cell_type": "code",
   "execution_count": 63,
   "id": "cf28f818",
   "metadata": {},
   "outputs": [],
   "source": [
    "all_words = []\n",
    "for review in total_reviews:\n",
    "    for word in review:\n",
    "        all_words.append(word)"
   ]
  },
  {
   "cell_type": "code",
   "execution_count": 65,
   "id": "7fba0c75",
   "metadata": {},
   "outputs": [],
   "source": [
    "fd = FreqDist()"
   ]
  },
  {
   "cell_type": "code",
   "execution_count": 66,
   "id": "c239502a",
   "metadata": {},
   "outputs": [],
   "source": [
    "for word in all_words:\n",
    "    fd[word] = fd[word] + 1"
   ]
  },
  {
   "cell_type": "code",
   "execution_count": 67,
   "id": "2185847e",
   "metadata": {},
   "outputs": [
    {
     "data": {
      "image/png": "[encoded data removed]",
      "text/plain": [
       "<Figure size 640x480 with 1 Axes>"
      ]
     },
     "metadata": {},
     "output_type": "display_data"
    },
    {
     "data": {
      "text/plain": [
       "<Axes: xlabel='Samples', ylabel='Counts'>"
      ]
     },
     "execution_count": 67,
     "metadata": {},
     "output_type": "execute_result"
    }
   ],
   "source": [
    "fd.plot(20)"
   ]
  },
  {
   "cell_type": "code",
   "execution_count": null,
   "id": "035061d5",
   "metadata": {},
   "outputs": [],
   "source": []
  }
 ],
 "metadata": {
  "kernelspec": {
   "display_name": "Python 3 (ipykernel)",
   "language": "python",
   "name": "python3"
  },
  "language_info": {
   "codemirror_mode": {
    "name": "ipython",
    "version": 3
   },
   "file_extension": ".py",
   "mimetype": "text/x-python",
   "name": "python",
   "nbconvert_exporter": "python",
   "pygments_lexer": "ipython3",
   "version": "3.11.5"
  }
 },
 "nbformat": 4,
 "nbformat_minor": 5
}
