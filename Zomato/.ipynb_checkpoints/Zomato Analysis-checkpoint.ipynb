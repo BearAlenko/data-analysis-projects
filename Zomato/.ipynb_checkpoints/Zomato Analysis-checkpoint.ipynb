{
 "cells": [
  {
   "cell_type": "markdown",
   "id": "2078be07",
   "metadata": {},
   "source": [
    "# Zomato Data Analysis"
   ]
  },
  {
   "cell_type": "code",
   "execution_count": 1,
   "id": "f88e6d52",
   "metadata": {},
   "outputs": [],
   "source": [
    "import sqlite3\n",
    "import pandas as pd\n",
    "import numpy as np\n",
    "import matplotlib.pyplot as plt\n",
    "import seaborn as sns"
   ]
  },
  {
   "cell_type": "markdown",
   "id": "938b51d3",
   "metadata": {},
   "source": [
    "## Read Data"
   ]
  },
  {
   "cell_type": "code",
   "execution_count": 2,
   "id": "1fcb48d7",
   "metadata": {},
   "outputs": [],
   "source": [
    "con = sqlite3.connect('.\\zomato_rawdata.sqlite')"
   ]
  },
  {
   "cell_type": "code",
   "execution_count": 3,
   "id": "948529de",
   "metadata": {},
   "outputs": [],
   "source": [
    "df = pd.read_sql_query(\"select * from Users\", con)"
   ]
  },
  {
   "cell_type": "markdown",
   "id": "b55953bd",
   "metadata": {},
   "source": [
    "## Data Cleaning"
   ]
  },
  {
   "cell_type": "code",
   "execution_count": 4,
   "id": "2b8493ba",
   "metadata": {},
   "outputs": [
    {
     "data": {
      "text/plain": [
       "index                              0\n",
       "url                                0\n",
       "address                            0\n",
       "name                               0\n",
       "online_order                       0\n",
       "book_table                         0\n",
       "rate                            7775\n",
       "votes                              0\n",
       "phone                           1208\n",
       "location                          21\n",
       "rest_type                        227\n",
       "dish_liked                     28078\n",
       "cuisines                          45\n",
       "approx_cost(for two people)      346\n",
       "reviews_list                       0\n",
       "menu_item                          0\n",
       "listed_in(type)                    0\n",
       "listed_in(city)                    0\n",
       "dtype: int64"
      ]
     },
     "execution_count": 4,
     "metadata": {},
     "output_type": "execute_result"
    }
   ],
   "source": [
    "df.isnull().sum()"
   ]
  },
  {
   "cell_type": "code",
   "execution_count": 5,
   "id": "65d5cc76",
   "metadata": {},
   "outputs": [
    {
     "data": {
      "text/plain": [
       "index                          0.000000\n",
       "url                            0.000000\n",
       "address                        0.000000\n",
       "name                           0.000000\n",
       "online_order                   0.000000\n",
       "book_table                     0.000000\n",
       "rate                           0.150337\n",
       "votes                          0.000000\n",
       "phone                          0.023358\n",
       "location                       0.000406\n",
       "rest_type                      0.004389\n",
       "dish_liked                     0.542916\n",
       "cuisines                       0.000870\n",
       "approx_cost(for two people)    0.006690\n",
       "reviews_list                   0.000000\n",
       "menu_item                      0.000000\n",
       "listed_in(type)                0.000000\n",
       "listed_in(city)                0.000000\n",
       "dtype: float64"
      ]
     },
     "execution_count": 5,
     "metadata": {},
     "output_type": "execute_result"
    }
   ],
   "source": [
    "df.isnull().sum()/len(df)"
   ]
  },
  {
   "cell_type": "code",
   "execution_count": 6,
   "id": "bdc7b037",
   "metadata": {},
   "outputs": [
    {
     "data": {
      "text/plain": [
       "array(['4.1/5', '3.8/5', '3.7/5', '3.6/5', '4.6/5', '4.0/5', '4.2/5',\n",
       "       '3.9/5', '3.1/5', '3.0/5', '3.2/5', '3.3/5', '2.8/5', '4.4/5',\n",
       "       '4.3/5', 'NEW', '2.9/5', '3.5/5', None, '2.6/5', '3.8 /5', '3.4/5',\n",
       "       '4.5/5', '2.5/5', '2.7/5', '4.7/5', '2.4/5', '2.2/5', '2.3/5',\n",
       "       '3.4 /5', '-', '3.6 /5', '4.8/5', '3.9 /5', '4.2 /5', '4.0 /5',\n",
       "       '4.1 /5', '3.7 /5', '3.1 /5', '2.9 /5', '3.3 /5', '2.8 /5',\n",
       "       '3.5 /5', '2.7 /5', '2.5 /5', '3.2 /5', '2.6 /5', '4.5 /5',\n",
       "       '4.3 /5', '4.4 /5', '4.9/5', '2.1/5', '2.0/5', '1.8/5', '4.6 /5',\n",
       "       '4.9 /5', '3.0 /5', '4.8 /5', '2.3 /5', '4.7 /5', '2.4 /5',\n",
       "       '2.1 /5', '2.2 /5', '2.0 /5', '1.8 /5'], dtype=object)"
      ]
     },
     "execution_count": 6,
     "metadata": {},
     "output_type": "execute_result"
    }
   ],
   "source": [
    "df['rate'].unique()"
   ]
  },
  {
   "cell_type": "code",
   "execution_count": 7,
   "id": "9d35c8ec",
   "metadata": {},
   "outputs": [],
   "source": [
    "df['rate'].replace(('NEW', '-'), np.nan, inplace = True)"
   ]
  },
  {
   "cell_type": "code",
   "execution_count": 8,
   "id": "51681130",
   "metadata": {},
   "outputs": [
    {
     "data": {
      "text/plain": [
       "array(['4.1/5', '3.8/5', '3.7/5', '3.6/5', '4.6/5', '4.0/5', '4.2/5',\n",
       "       '3.9/5', '3.1/5', '3.0/5', '3.2/5', '3.3/5', '2.8/5', '4.4/5',\n",
       "       '4.3/5', nan, '2.9/5', '3.5/5', None, '2.6/5', '3.8 /5', '3.4/5',\n",
       "       '4.5/5', '2.5/5', '2.7/5', '4.7/5', '2.4/5', '2.2/5', '2.3/5',\n",
       "       '3.4 /5', '3.6 /5', '4.8/5', '3.9 /5', '4.2 /5', '4.0 /5',\n",
       "       '4.1 /5', '3.7 /5', '3.1 /5', '2.9 /5', '3.3 /5', '2.8 /5',\n",
       "       '3.5 /5', '2.7 /5', '2.5 /5', '3.2 /5', '2.6 /5', '4.5 /5',\n",
       "       '4.3 /5', '4.4 /5', '4.9/5', '2.1/5', '2.0/5', '1.8/5', '4.6 /5',\n",
       "       '4.9 /5', '3.0 /5', '4.8 /5', '2.3 /5', '4.7 /5', '2.4 /5',\n",
       "       '2.1 /5', '2.2 /5', '2.0 /5', '1.8 /5'], dtype=object)"
      ]
     },
     "execution_count": 8,
     "metadata": {},
     "output_type": "execute_result"
    }
   ],
   "source": [
    "df['rate'].unique()"
   ]
  },
  {
   "cell_type": "markdown",
   "id": "9f8ea74a",
   "metadata": {},
   "source": [
    "## Find the relationship between Online_Order and Rating"
   ]
  },
  {
   "cell_type": "code",
   "execution_count": 9,
   "id": "559b51b5",
   "metadata": {},
   "outputs": [],
   "source": [
    "df['rate'] = df['rate'].apply(lambda x: float(x.split('/')[0]) if type(x)==str else x)"
   ]
  },
  {
   "cell_type": "code",
   "execution_count": 10,
   "id": "d027943a",
   "metadata": {},
   "outputs": [
    {
     "name": "stderr",
     "output_type": "stream",
     "text": [
      "E:\\anaconda3\\Lib\\site-packages\\seaborn\\axisgrid.py:118: UserWarning: The figure layout has changed to tight\n",
      "  self._figure.tight_layout(*args, **kwargs)\n"
     ]
    },
    {
     "data": {
      "text/plain": [
       "<seaborn.axisgrid.FacetGrid at 0x214687b2490>"
      ]
     },
     "execution_count": 10,
     "metadata": {},
     "output_type": "execute_result"
    },
    {
     "data": {
      "image/png": "[encoded data removed]",
      "text/plain": [
       "<Figure size 597.486x500 with 1 Axes>"
      ]
     },
     "metadata": {},
     "output_type": "display_data"
    }
   ],
   "source": [
    "sns.displot(data = df, x = 'rate', hue = 'online_order', multiple = 'stack', bins = 30)"
   ]
  },
  {
   "cell_type": "code",
   "execution_count": 11,
   "id": "56ec0b2d",
   "metadata": {},
   "outputs": [
    {
     "data": {
      "text/plain": [
       "<Axes: xlabel='online_order', ylabel='rate'>"
      ]
     },
     "execution_count": 11,
     "metadata": {},
     "output_type": "execute_result"
    },
    {
     "data": {
      "image/png": "[encoded data removed]",
      "text/plain": [
       "<Figure size 640x480 with 1 Axes>"
      ]
     },
     "metadata": {},
     "output_type": "display_data"
    }
   ],
   "source": [
    "sns.boxplot(data = df, x = 'online_order', y = 'rate', showfliers = False)"
   ]
  },
  {
   "cell_type": "code",
   "execution_count": 12,
   "id": "6f86c8fd",
   "metadata": {},
   "outputs": [],
   "source": [
    "x = pd.crosstab(df['rate'], df['online_order'])"
   ]
  },
  {
   "cell_type": "code",
   "execution_count": 13,
   "id": "cd7a7f99",
   "metadata": {},
   "outputs": [
    {
     "data": {
      "text/html": [
       "<div>\n",
       "<style scoped>\n",
       "    .dataframe tbody tr th:only-of-type {\n",
       "        vertical-align: middle;\n",
       "    }\n",
       "\n",
       "    .dataframe tbody tr th {\n",
       "        vertical-align: top;\n",
       "    }\n",
       "\n",
       "    .dataframe thead th {\n",
       "        text-align: right;\n",
       "    }\n",
       "</style>\n",
       "<table border=\"1\" class=\"dataframe\">\n",
       "  <thead>\n",
       "    <tr style=\"text-align: right;\">\n",
       "      <th>online_order</th>\n",
       "      <th>No</th>\n",
       "      <th>Yes</th>\n",
       "    </tr>\n",
       "    <tr>\n",
       "      <th>rate</th>\n",
       "      <th></th>\n",
       "      <th></th>\n",
       "    </tr>\n",
       "  </thead>\n",
       "  <tbody>\n",
       "    <tr>\n",
       "      <th>1.8</th>\n",
       "      <td>5</td>\n",
       "      <td>0</td>\n",
       "    </tr>\n",
       "    <tr>\n",
       "      <th>2.0</th>\n",
       "      <td>11</td>\n",
       "      <td>0</td>\n",
       "    </tr>\n",
       "    <tr>\n",
       "      <th>2.1</th>\n",
       "      <td>9</td>\n",
       "      <td>15</td>\n",
       "    </tr>\n",
       "    <tr>\n",
       "      <th>2.2</th>\n",
       "      <td>10</td>\n",
       "      <td>16</td>\n",
       "    </tr>\n",
       "    <tr>\n",
       "      <th>2.3</th>\n",
       "      <td>29</td>\n",
       "      <td>22</td>\n",
       "    </tr>\n",
       "    <tr>\n",
       "      <th>2.4</th>\n",
       "      <td>36</td>\n",
       "      <td>34</td>\n",
       "    </tr>\n",
       "    <tr>\n",
       "      <th>2.5</th>\n",
       "      <td>38</td>\n",
       "      <td>63</td>\n",
       "    </tr>\n",
       "    <tr>\n",
       "      <th>2.6</th>\n",
       "      <td>83</td>\n",
       "      <td>177</td>\n",
       "    </tr>\n",
       "    <tr>\n",
       "      <th>2.7</th>\n",
       "      <td>141</td>\n",
       "      <td>166</td>\n",
       "    </tr>\n",
       "    <tr>\n",
       "      <th>2.8</th>\n",
       "      <td>224</td>\n",
       "      <td>376</td>\n",
       "    </tr>\n",
       "    <tr>\n",
       "      <th>2.9</th>\n",
       "      <td>314</td>\n",
       "      <td>488</td>\n",
       "    </tr>\n",
       "    <tr>\n",
       "      <th>3.0</th>\n",
       "      <td>439</td>\n",
       "      <td>584</td>\n",
       "    </tr>\n",
       "    <tr>\n",
       "      <th>3.1</th>\n",
       "      <td>587</td>\n",
       "      <td>974</td>\n",
       "    </tr>\n",
       "    <tr>\n",
       "      <th>3.2</th>\n",
       "      <td>829</td>\n",
       "      <td>1044</td>\n",
       "    </tr>\n",
       "    <tr>\n",
       "      <th>3.3</th>\n",
       "      <td>1137</td>\n",
       "      <td>1173</td>\n",
       "    </tr>\n",
       "    <tr>\n",
       "      <th>3.4</th>\n",
       "      <td>1024</td>\n",
       "      <td>1452</td>\n",
       "    </tr>\n",
       "    <tr>\n",
       "      <th>3.5</th>\n",
       "      <td>1090</td>\n",
       "      <td>1694</td>\n",
       "    </tr>\n",
       "    <tr>\n",
       "      <th>3.6</th>\n",
       "      <td>1090</td>\n",
       "      <td>2226</td>\n",
       "    </tr>\n",
       "    <tr>\n",
       "      <th>3.7</th>\n",
       "      <td>1172</td>\n",
       "      <td>2649</td>\n",
       "    </tr>\n",
       "    <tr>\n",
       "      <th>3.8</th>\n",
       "      <td>1147</td>\n",
       "      <td>2726</td>\n",
       "    </tr>\n",
       "    <tr>\n",
       "      <th>3.9</th>\n",
       "      <td>1017</td>\n",
       "      <td>2955</td>\n",
       "    </tr>\n",
       "    <tr>\n",
       "      <th>4.0</th>\n",
       "      <td>874</td>\n",
       "      <td>2309</td>\n",
       "    </tr>\n",
       "    <tr>\n",
       "      <th>4.1</th>\n",
       "      <td>843</td>\n",
       "      <td>2105</td>\n",
       "    </tr>\n",
       "    <tr>\n",
       "      <th>4.2</th>\n",
       "      <td>648</td>\n",
       "      <td>1536</td>\n",
       "    </tr>\n",
       "    <tr>\n",
       "      <th>4.3</th>\n",
       "      <td>692</td>\n",
       "      <td>1001</td>\n",
       "    </tr>\n",
       "    <tr>\n",
       "      <th>4.4</th>\n",
       "      <td>374</td>\n",
       "      <td>773</td>\n",
       "    </tr>\n",
       "    <tr>\n",
       "      <th>4.5</th>\n",
       "      <td>297</td>\n",
       "      <td>359</td>\n",
       "    </tr>\n",
       "    <tr>\n",
       "      <th>4.6</th>\n",
       "      <td>140</td>\n",
       "      <td>160</td>\n",
       "    </tr>\n",
       "    <tr>\n",
       "      <th>4.7</th>\n",
       "      <td>113</td>\n",
       "      <td>54</td>\n",
       "    </tr>\n",
       "    <tr>\n",
       "      <th>4.8</th>\n",
       "      <td>34</td>\n",
       "      <td>32</td>\n",
       "    </tr>\n",
       "    <tr>\n",
       "      <th>4.9</th>\n",
       "      <td>12</td>\n",
       "      <td>43</td>\n",
       "    </tr>\n",
       "  </tbody>\n",
       "</table>\n",
       "</div>"
      ],
      "text/plain": [
       "online_order    No   Yes\n",
       "rate                    \n",
       "1.8              5     0\n",
       "2.0             11     0\n",
       "2.1              9    15\n",
       "2.2             10    16\n",
       "2.3             29    22\n",
       "2.4             36    34\n",
       "2.5             38    63\n",
       "2.6             83   177\n",
       "2.7            141   166\n",
       "2.8            224   376\n",
       "2.9            314   488\n",
       "3.0            439   584\n",
       "3.1            587   974\n",
       "3.2            829  1044\n",
       "3.3           1137  1173\n",
       "3.4           1024  1452\n",
       "3.5           1090  1694\n",
       "3.6           1090  2226\n",
       "3.7           1172  2649\n",
       "3.8           1147  2726\n",
       "3.9           1017  2955\n",
       "4.0            874  2309\n",
       "4.1            843  2105\n",
       "4.2            648  1536\n",
       "4.3            692  1001\n",
       "4.4            374   773\n",
       "4.5            297   359\n",
       "4.6            140   160\n",
       "4.7            113    54\n",
       "4.8             34    32\n",
       "4.9             12    43"
      ]
     },
     "execution_count": 13,
     "metadata": {},
     "output_type": "execute_result"
    }
   ],
   "source": [
    "x"
   ]
  },
  {
   "cell_type": "code",
   "execution_count": 14,
   "id": "03d6d4ed",
   "metadata": {},
   "outputs": [
    {
     "data": {
      "text/plain": [
       "<Axes: xlabel='rate'>"
      ]
     },
     "execution_count": 14,
     "metadata": {},
     "output_type": "execute_result"
    },
    {
     "data": {
      "image/png": "[encoded data removed]",
      "text/plain": [
       "<Figure size 640x480 with 1 Axes>"
      ]
     },
     "metadata": {},
     "output_type": "display_data"
    }
   ],
   "source": [
    "x.plot(kind = 'bar', stacked=True)"
   ]
  },
  {
   "cell_type": "code",
   "execution_count": 15,
   "id": "f3beb0a8",
   "metadata": {},
   "outputs": [
    {
     "data": {
      "text/plain": [
       "rate\n",
       "1.8       5.0\n",
       "2.0      11.0\n",
       "2.1      24.0\n",
       "2.2      26.0\n",
       "2.3      51.0\n",
       "2.4      70.0\n",
       "2.5     101.0\n",
       "2.6     260.0\n",
       "2.7     307.0\n",
       "2.8     600.0\n",
       "2.9     802.0\n",
       "3.0    1023.0\n",
       "3.1    1561.0\n",
       "3.2    1873.0\n",
       "3.3    2310.0\n",
       "3.4    2476.0\n",
       "3.5    2784.0\n",
       "3.6    3316.0\n",
       "3.7    3821.0\n",
       "3.8    3873.0\n",
       "3.9    3972.0\n",
       "4.0    3183.0\n",
       "4.1    2948.0\n",
       "4.2    2184.0\n",
       "4.3    1693.0\n",
       "4.4    1147.0\n",
       "4.5     656.0\n",
       "4.6     300.0\n",
       "4.7     167.0\n",
       "4.8      66.0\n",
       "4.9      55.0\n",
       "dtype: float64"
      ]
     },
     "execution_count": 15,
     "metadata": {},
     "output_type": "execute_result"
    }
   ],
   "source": [
    "x.sum(axis = 1).astype(float)"
   ]
  },
  {
   "cell_type": "code",
   "execution_count": 16,
   "id": "65a10a6a",
   "metadata": {},
   "outputs": [],
   "source": [
    "normalized_df = x.div(x.sum(axis = 1).astype(float), axis = 0)*100"
   ]
  },
  {
   "cell_type": "code",
   "execution_count": 17,
   "id": "afffee98",
   "metadata": {},
   "outputs": [
    {
     "data": {
      "text/plain": [
       "<Axes: xlabel='rate'>"
      ]
     },
     "execution_count": 17,
     "metadata": {},
     "output_type": "execute_result"
    },
    {
     "data": {
      "image/png": "[encoded data removed]",
      "text/plain": [
       "<Figure size 640x480 with 1 Axes>"
      ]
     },
     "metadata": {},
     "output_type": "display_data"
    }
   ],
   "source": [
    "normalized_df.plot(kind = 'bar', stacked = True)"
   ]
  },
  {
   "cell_type": "markdown",
   "id": "2740a0ea",
   "metadata": {},
   "source": [
    "## Clean Text"
   ]
  },
  {
   "cell_type": "code",
   "execution_count": 18,
   "id": "9962a732",
   "metadata": {},
   "outputs": [
    {
     "data": {
      "text/plain": [
       "227"
      ]
     },
     "execution_count": 18,
     "metadata": {},
     "output_type": "execute_result"
    }
   ],
   "source": [
    "df['rest_type'].isnull().sum()"
   ]
  },
  {
   "cell_type": "code",
   "execution_count": 19,
   "id": "a6809f01",
   "metadata": {},
   "outputs": [],
   "source": [
    "data = df.dropna(subset = ['rest_type'])"
   ]
  },
  {
   "cell_type": "code",
   "execution_count": 20,
   "id": "0fbc9f89",
   "metadata": {},
   "outputs": [
    {
     "data": {
      "text/plain": [
       "array(['Casual Dining', 'Cafe, Casual Dining', 'Quick Bites',\n",
       "       'Casual Dining, Cafe', 'Cafe', 'Quick Bites, Cafe',\n",
       "       'Cafe, Quick Bites', 'Delivery', 'Mess', 'Dessert Parlor',\n",
       "       'Bakery, Dessert Parlor', 'Pub', 'Bakery', 'Takeaway, Delivery',\n",
       "       'Fine Dining', 'Beverage Shop', 'Sweet Shop', 'Bar',\n",
       "       'Beverage Shop, Quick Bites', 'Confectionery',\n",
       "       'Quick Bites, Beverage Shop', 'Dessert Parlor, Sweet Shop',\n",
       "       'Bakery, Quick Bites', 'Sweet Shop, Quick Bites', 'Kiosk',\n",
       "       'Food Truck', 'Quick Bites, Dessert Parlor',\n",
       "       'Beverage Shop, Dessert Parlor', 'Takeaway', 'Pub, Casual Dining',\n",
       "       'Casual Dining, Bar', 'Dessert Parlor, Beverage Shop',\n",
       "       'Quick Bites, Bakery', 'Dessert Parlor, Quick Bites',\n",
       "       'Microbrewery, Casual Dining', 'Lounge', 'Bar, Casual Dining',\n",
       "       'Food Court', 'Cafe, Bakery', 'Dhaba', 'Quick Bites, Sweet Shop',\n",
       "       'Microbrewery', 'Food Court, Quick Bites', 'Pub, Bar',\n",
       "       'Casual Dining, Pub', 'Lounge, Bar', 'Food Court, Dessert Parlor',\n",
       "       'Casual Dining, Sweet Shop', 'Food Court, Casual Dining',\n",
       "       'Casual Dining, Microbrewery', 'Sweet Shop, Dessert Parlor',\n",
       "       'Bakery, Beverage Shop', 'Lounge, Casual Dining',\n",
       "       'Cafe, Food Court', 'Beverage Shop, Cafe', 'Cafe, Dessert Parlor',\n",
       "       'Dessert Parlor, Cafe', 'Dessert Parlor, Bakery',\n",
       "       'Microbrewery, Pub', 'Bakery, Food Court', 'Club',\n",
       "       'Quick Bites, Food Court', 'Bakery, Cafe', 'Bar, Cafe',\n",
       "       'Pub, Cafe', 'Casual Dining, Irani Cafee', 'Fine Dining, Lounge',\n",
       "       'Bar, Quick Bites', 'Bakery, Kiosk', 'Pub, Microbrewery',\n",
       "       'Microbrewery, Lounge', 'Fine Dining, Microbrewery',\n",
       "       'Fine Dining, Bar', 'Mess, Quick Bites', 'Dessert Parlor, Kiosk',\n",
       "       'Bhojanalya', 'Casual Dining, Quick Bites', 'Pop Up', 'Cafe, Bar',\n",
       "       'Casual Dining, Lounge', 'Bakery, Sweet Shop', 'Microbrewery, Bar',\n",
       "       'Cafe, Lounge', 'Bar, Pub', 'Lounge, Cafe', 'Club, Casual Dining',\n",
       "       'Quick Bites, Mess', 'Quick Bites, Meat Shop',\n",
       "       'Quick Bites, Kiosk', 'Lounge, Microbrewery',\n",
       "       'Food Court, Beverage Shop', 'Dessert Parlor, Food Court',\n",
       "       'Bar, Lounge'], dtype=object)"
      ]
     },
     "execution_count": 20,
     "metadata": {},
     "output_type": "execute_result"
    }
   ],
   "source": [
    "data['rest_type'].unique()"
   ]
  },
  {
   "cell_type": "code",
   "execution_count": 21,
   "id": "bec95521",
   "metadata": {},
   "outputs": [],
   "source": [
    "quick_bites_df = data[data['rest_type'].str.contains('Quick Bites')]"
   ]
  },
  {
   "cell_type": "code",
   "execution_count": 22,
   "id": "704f4b3b",
   "metadata": {},
   "outputs": [
    {
     "data": {
      "text/plain": [
       "(20639, 18)"
      ]
     },
     "execution_count": 22,
     "metadata": {},
     "output_type": "execute_result"
    }
   ],
   "source": [
    "quick_bites_df.shape"
   ]
  },
  {
   "cell_type": "code",
   "execution_count": 23,
   "id": "e27da046",
   "metadata": {},
   "outputs": [
    {
     "data": {
      "text/plain": [
       "Index(['index', 'url', 'address', 'name', 'online_order', 'book_table', 'rate',\n",
       "       'votes', 'phone', 'location', 'rest_type', 'dish_liked', 'cuisines',\n",
       "       'approx_cost(for two people)', 'reviews_list', 'menu_item',\n",
       "       'listed_in(type)', 'listed_in(city)'],\n",
       "      dtype='object')"
      ]
     },
     "execution_count": 23,
     "metadata": {},
     "output_type": "execute_result"
    }
   ],
   "source": [
    "quick_bites_df.columns"
   ]
  },
  {
   "cell_type": "code",
   "execution_count": 24,
   "id": "72cbcc6c",
   "metadata": {},
   "outputs": [
    {
     "data": {
      "text/plain": [
       "3        [('Rated 4.0', \"RATED\\n  Great food and proper...\n",
       "23       [('Rated 4.0', \"RATED\\n  So, went here with fr...\n",
       "26       [('Rated 5.0', 'RATED\\n  please provide some e...\n",
       "31       [('Rated 1.0', \"RATED\\n  Worst restaurant ever...\n",
       "34       [('Rated 3.0', 'RATED\\n  Not worth for the mon...\n",
       "                               ...                        \n",
       "51641    [('Rated 2.0', \"RATED\\n  Food is not upto the ...\n",
       "51642                                                   []\n",
       "51643                                                   []\n",
       "51644                                                   []\n",
       "51645    [('Rated 5.0', \"RATED\\n  I was randomly lookin...\n",
       "Name: reviews_list, Length: 20639, dtype: object"
      ]
     },
     "execution_count": 24,
     "metadata": {},
     "output_type": "execute_result"
    }
   ],
   "source": [
    "quick_bites_df['reviews_list']"
   ]
  },
  {
   "cell_type": "code",
   "execution_count": 25,
   "id": "0536b392",
   "metadata": {},
   "outputs": [
    {
     "name": "stderr",
     "output_type": "stream",
     "text": [
      "C:\\Users\\Zehao Zhu\\AppData\\Local\\Temp\\ipykernel_27872\\990775181.py:1: SettingWithCopyWarning: \n",
      "A value is trying to be set on a copy of a slice from a DataFrame.\n",
      "Try using .loc[row_indexer,col_indexer] = value instead\n",
      "\n",
      "See the caveats in the documentation: https://pandas.pydata.org/pandas-docs/stable/user_guide/indexing.html#returning-a-view-versus-a-copy\n",
      "  quick_bites_df['reviews_list'] = quick_bites_df['reviews_list'].apply(lambda x: x.lower())\n"
     ]
    }
   ],
   "source": [
    "quick_bites_df['reviews_list'] = quick_bites_df['reviews_list'].apply(lambda x: x.lower())"
   ]
  },
  {
   "cell_type": "code",
   "execution_count": 38,
   "id": "8c2b885a",
   "metadata": {},
   "outputs": [],
   "source": [
    "from nltk.corpus import RegexpTokenizer\n",
    "from nltk.corpus import stopwords\n",
    "from nltk import FreqDist\n",
    "from nltk import FreqDist, bigrams, trigrams"
   ]
  },
  {
   "cell_type": "code",
   "execution_count": 27,
   "id": "0d67a688",
   "metadata": {},
   "outputs": [],
   "source": [
    "tokenizer = RegexpTokenizer(\"[a-zA-Z]+\")"
   ]
  },
  {
   "cell_type": "code",
   "execution_count": 28,
   "id": "93e69ecf",
   "metadata": {},
   "outputs": [],
   "source": [
    "sample = data.sample(n=10000)"
   ]
  },
  {
   "cell_type": "code",
   "execution_count": 29,
   "id": "cabba7a1",
   "metadata": {},
   "outputs": [],
   "source": [
    "reviews_tokens = sample['reviews_list'].apply(tokenizer.tokenize)"
   ]
  },
  {
   "cell_type": "code",
   "execution_count": 30,
   "id": "d7c4cca0",
   "metadata": {},
   "outputs": [],
   "source": [
    "stop = stopwords.words('english')"
   ]
  },
  {
   "cell_type": "code",
   "execution_count": 31,
   "id": "46a55adc",
   "metadata": {},
   "outputs": [],
   "source": [
    "stop.extend(['rated', 'n', 'nan', 'x', 'RATED', 'Rated'])"
   ]
  },
  {
   "cell_type": "code",
   "execution_count": 32,
   "id": "63d6abf8",
   "metadata": {},
   "outputs": [],
   "source": [
    "reviews_tokens_clean = reviews_tokens.apply(lambda each_review: [token for token in each_review if token not in stop])"
   ]
  },
  {
   "cell_type": "markdown",
   "id": "0df45f77",
   "metadata": {},
   "source": [
    "## Plot Word Counts of Quick Bites"
   ]
  },
  {
   "cell_type": "code",
   "execution_count": 33,
   "id": "10fdb40b",
   "metadata": {},
   "outputs": [],
   "source": [
    "total_reviews = list(reviews_tokens_clean)"
   ]
  },
  {
   "cell_type": "code",
   "execution_count": 34,
   "id": "cf28f818",
   "metadata": {},
   "outputs": [],
   "source": [
    "all_words = []\n",
    "for review in total_reviews:\n",
    "    for word in review:\n",
    "        all_words.append(word)"
   ]
  },
  {
   "cell_type": "code",
   "execution_count": 35,
   "id": "7fba0c75",
   "metadata": {},
   "outputs": [],
   "source": [
    "fd = FreqDist()"
   ]
  },
  {
   "cell_type": "code",
   "execution_count": 36,
   "id": "c239502a",
   "metadata": {},
   "outputs": [],
   "source": [
    "for word in all_words:\n",
    "    fd[word] = fd[word] + 1"
   ]
  },
  {
   "cell_type": "code",
   "execution_count": 37,
   "id": "2185847e",
   "metadata": {},
   "outputs": [
    {
     "data": {
      "image/png": "[encoded data removed]",
      "text/plain": [
       "<Figure size 640x480 with 1 Axes>"
      ]
     },
     "metadata": {},
     "output_type": "display_data"
    },
    {
     "data": {
      "text/plain": [
       "<Axes: xlabel='Samples', ylabel='Counts'>"
      ]
     },
     "execution_count": 37,
     "metadata": {},
     "output_type": "execute_result"
    }
   ],
   "source": [
    "fd.plot(20)"
   ]
  },
  {
   "cell_type": "code",
   "execution_count": 44,
   "id": "035061d5",
   "metadata": {},
   "outputs": [],
   "source": [
    "bi_grams = bigrams(all_words)"
   ]
  },
  {
   "cell_type": "code",
   "execution_count": 45,
   "id": "21ed860c",
   "metadata": {},
   "outputs": [],
   "source": [
    "fd_bigrams = FreqDist()\n",
    "for bigram in bi_grams:\n",
    "    fd_bigrams[bigram] = fd_bigrams[bigram] + 1 "
   ]
  },
  {
   "cell_type": "code",
   "execution_count": 46,
   "id": "46ed9578",
   "metadata": {},
   "outputs": [
    {
     "data": {
      "text/plain": [
       "[(('The', 'food'), 14178),\n",
       " (('really', 'good'), 12365),\n",
       " (('I', 'ordered'), 11586),\n",
       " (('This', 'place'), 10962),\n",
       " (('must', 'try'), 10916),\n",
       " (('We', 'ordered'), 9875),\n",
       " (('I', 'would'), 9259),\n",
       " (('visit', 'place'), 8571),\n",
       " (('food', 'good'), 8427),\n",
       " (('The', 'place'), 8240),\n",
       " (('good', 'food'), 8208),\n",
       " (('good', 'place'), 6989),\n",
       " (('f', 'f'), 6875),\n",
       " (('The', 'ambience'), 6673),\n",
       " (('main', 'course'), 6578),\n",
       " (('non', 'veg'), 6170),\n",
       " (('ice', 'cream'), 5899),\n",
       " (('also', 'good'), 5881),\n",
       " (('The', 'service'), 5658),\n",
       " (('place', 'I'), 5507)]"
      ]
     },
     "execution_count": 46,
     "metadata": {},
     "output_type": "execute_result"
    }
   ],
   "source": [
    "fd_bigrams.most_common(20)"
   ]
  },
  {
   "cell_type": "code",
   "execution_count": 47,
   "id": "42cf6e24",
   "metadata": {},
   "outputs": [],
   "source": [
    "tri_grams = trigrams(all_words)"
   ]
  },
  {
   "cell_type": "code",
   "execution_count": 48,
   "id": "a6ef2543",
   "metadata": {},
   "outputs": [],
   "source": [
    "fd_trigrams = FreqDist()\n",
    "for trigram in tri_grams:\n",
    "    fd_trigrams[trigram] = fd_trigrams[trigram] + 1 "
   ]
  },
  {
   "cell_type": "code",
   "execution_count": 49,
   "id": "44c9fc94",
   "metadata": {},
   "outputs": [
    {
     "data": {
      "text/plain": [
       "[(('f', 'f', 'f'), 3623),\n",
       " (('The', 'food', 'good'), 1901),\n",
       " (('xa', 'xa', 'xa'), 1822),\n",
       " (('must', 'visit', 'place'), 1764),\n",
       " (('place', 'hangout', 'friends'), 1718),\n",
       " (('veg', 'non', 'veg'), 1679),\n",
       " (('I', 'must', 'say'), 1519),\n",
       " (('I', 'visited', 'place'), 1414),\n",
       " (('f', 'c', 'f'), 1372),\n",
       " (('I', 'would', 'recommend'), 1363),\n",
       " (('nFood', 'nAmbience', 'nService'), 1249),\n",
       " (('food', 'really', 'good'), 1139),\n",
       " (('place', 'hang', 'friends'), 1051),\n",
       " (('A', 'good', 'place'), 1031),\n",
       " (('I', 'would', 'say'), 1003),\n",
       " (('A', 'must', 'visit'), 999),\n",
       " (('A', 'must', 'try'), 981),\n",
       " (('North', 'Indian', 'food'), 874),\n",
       " (('nFood', 'nService', 'nAmbience'), 826),\n",
       " (('really', 'good', 'The'), 793)]"
      ]
     },
     "execution_count": 49,
     "metadata": {},
     "output_type": "execute_result"
    }
   ],
   "source": [
    "fd_trigrams.most_common(20)"
   ]
  },
  {
   "cell_type": "markdown",
   "id": "18f1e3db",
   "metadata": {},
   "source": [
    "## Extract Geographic Data"
   ]
  },
  {
   "cell_type": "code",
   "execution_count": 50,
   "id": "cf07a416",
   "metadata": {},
   "outputs": [
    {
     "data": {
      "text/plain": [
       "array(['Banashankari', 'Basavanagudi', 'Mysore Road', 'Jayanagar',\n",
       "       'Kumaraswamy Layout', 'Rajarajeshwari Nagar', 'Vijay Nagar',\n",
       "       'Uttarahalli', 'JP Nagar', 'South Bangalore', 'City Market',\n",
       "       'Nagarbhavi', 'Bannerghatta Road', 'BTM', 'Kanakapura Road',\n",
       "       'Bommanahalli', None, 'CV Raman Nagar', 'Electronic City', 'HSR',\n",
       "       'Marathahalli', 'Sarjapur Road', 'Wilson Garden', 'Shanti Nagar',\n",
       "       'Koramangala 5th Block', 'Koramangala 8th Block', 'Richmond Road',\n",
       "       'Koramangala 7th Block', 'Jalahalli', 'Koramangala 4th Block',\n",
       "       'Bellandur', 'Whitefield', 'East Bangalore', 'Old Airport Road',\n",
       "       'Indiranagar', 'Koramangala 1st Block', 'Frazer Town', 'RT Nagar',\n",
       "       'MG Road', 'Brigade Road', 'Lavelle Road', 'Church Street',\n",
       "       'Ulsoor', 'Residency Road', 'Shivajinagar', 'Infantry Road',\n",
       "       'St. Marks Road', 'Cunningham Road', 'Race Course Road',\n",
       "       'Commercial Street', 'Vasanth Nagar', 'HBR Layout', 'Domlur',\n",
       "       'Ejipura', 'Jeevan Bhima Nagar', 'Old Madras Road', 'Malleshwaram',\n",
       "       'Seshadripuram', 'Kammanahalli', 'Koramangala 6th Block',\n",
       "       'Majestic', 'Langford Town', 'Central Bangalore', 'Sanjay Nagar',\n",
       "       'Brookefield', 'ITPL Main Road, Whitefield',\n",
       "       'Varthur Main Road, Whitefield', 'KR Puram',\n",
       "       'Koramangala 2nd Block', 'Koramangala 3rd Block', 'Koramangala',\n",
       "       'Hosur Road', 'Rajajinagar', 'Banaswadi', 'North Bangalore',\n",
       "       'Nagawara', 'Hennur', 'Kalyan Nagar', 'New BEL Road', 'Jakkur',\n",
       "       'Rammurthy Nagar', 'Thippasandra', 'Kaggadasapura', 'Hebbal',\n",
       "       'Kengeri', 'Sankey Road', 'Sadashiv Nagar', 'Basaveshwara Nagar',\n",
       "       'Yeshwantpur', 'West Bangalore', 'Magadi Road', 'Yelahanka',\n",
       "       'Sahakara Nagar', 'Peenya'], dtype=object)"
      ]
     },
     "execution_count": 50,
     "metadata": {},
     "output_type": "execute_result"
    }
   ],
   "source": [
    "df['location'].unique()"
   ]
  },
  {
   "cell_type": "code",
   "execution_count": 51,
   "id": "384714d4",
   "metadata": {},
   "outputs": [],
   "source": [
    "df_copy = df.copy()\n",
    "df_copy = df_copy.dropna(subset = ['location'])"
   ]
  },
  {
   "cell_type": "code",
   "execution_count": 53,
   "id": "f3463eb2",
   "metadata": {},
   "outputs": [],
   "source": [
    "locations = pd.DataFrame(df_copy['location'].unique())"
   ]
  },
  {
   "cell_type": "code",
   "execution_count": 54,
   "id": "c42c1e5e",
   "metadata": {},
   "outputs": [],
   "source": [
    "locations.columns = ['name']"
   ]
  },
  {
   "cell_type": "code",
   "execution_count": 57,
   "id": "709226e1",
   "metadata": {},
   "outputs": [],
   "source": [
    "from geopy.geocoders import Nominatim"
   ]
  },
  {
   "cell_type": "code",
   "execution_count": 58,
   "id": "4d571cef",
   "metadata": {},
   "outputs": [],
   "source": [
    "geolocator = Nominatim(user_agent = 'app', timeout = None)"
   ]
  },
  {
   "cell_type": "code",
   "execution_count": 59,
   "id": "b101f415",
   "metadata": {},
   "outputs": [],
   "source": [
    "lat = []\n",
    "lon = []\n",
    "for location in locations['name']:\n",
    "    location = geolocator.geocode(location)\n",
    "    if location is None:\n",
    "        lat.append(np.nan)\n",
    "        lon.append(np.nan)\n",
    "    else:\n",
    "        lat.append(location.latitude)\n",
    "        lon.append(location.longitude)"
   ]
  },
  {
   "cell_type": "code",
   "execution_count": 60,
   "id": "bf812209",
   "metadata": {},
   "outputs": [],
   "source": [
    "locations['latitude'] = lat\n",
    "locations['longitude'] = lon"
   ]
  },
  {
   "cell_type": "code",
   "execution_count": 61,
   "id": "fbe221be",
   "metadata": {},
   "outputs": [
    {
     "name": "stderr",
     "output_type": "stream",
     "text": [
      "C:\\Users\\Zehao Zhu\\AppData\\Local\\Temp\\ipykernel_27872\\1776001387.py:1: SettingWithCopyWarning: \n",
      "A value is trying to be set on a copy of a slice from a DataFrame\n",
      "\n",
      "See the caveats in the documentation: https://pandas.pydata.org/pandas-docs/stable/user_guide/indexing.html#returning-a-view-versus-a-copy\n",
      "  locations['latitude'][45] = 12.9764122\n",
      "C:\\Users\\Zehao Zhu\\AppData\\Local\\Temp\\ipykernel_27872\\1776001387.py:2: SettingWithCopyWarning: \n",
      "A value is trying to be set on a copy of a slice from a DataFrame\n",
      "\n",
      "See the caveats in the documentation: https://pandas.pydata.org/pandas-docs/stable/user_guide/indexing.html#returning-a-view-versus-a-copy\n",
      "  locations['longitude'][45] = 77.6017437\n",
      "C:\\Users\\Zehao Zhu\\AppData\\Local\\Temp\\ipykernel_27872\\1776001387.py:3: SettingWithCopyWarning: \n",
      "A value is trying to be set on a copy of a slice from a DataFrame\n",
      "\n",
      "See the caveats in the documentation: https://pandas.pydata.org/pandas-docs/stable/user_guide/indexing.html#returning-a-view-versus-a-copy\n",
      "  locations['latitude'][79] = 13.0163\n",
      "C:\\Users\\Zehao Zhu\\AppData\\Local\\Temp\\ipykernel_27872\\1776001387.py:4: SettingWithCopyWarning: \n",
      "A value is trying to be set on a copy of a slice from a DataFrame\n",
      "\n",
      "See the caveats in the documentation: https://pandas.pydata.org/pandas-docs/stable/user_guide/indexing.html#returning-a-view-versus-a-copy\n",
      "  locations['longitude'][79] = 77.6785\n",
      "C:\\Users\\Zehao Zhu\\AppData\\Local\\Temp\\ipykernel_27872\\1776001387.py:5: SettingWithCopyWarning: \n",
      "A value is trying to be set on a copy of a slice from a DataFrame\n",
      "\n",
      "See the caveats in the documentation: https://pandas.pydata.org/pandas-docs/stable/user_guide/indexing.html#returning-a-view-versus-a-copy\n",
      "  locations['latitude'][85] = 13.0068\n",
      "C:\\Users\\Zehao Zhu\\AppData\\Local\\Temp\\ipykernel_27872\\1776001387.py:6: SettingWithCopyWarning: \n",
      "A value is trying to be set on a copy of a slice from a DataFrame\n",
      "\n",
      "See the caveats in the documentation: https://pandas.pydata.org/pandas-docs/stable/user_guide/indexing.html#returning-a-view-versus-a-copy\n",
      "  locations['longitude'][85] = 77.5813\n"
     ]
    }
   ],
   "source": [
    "locations['latitude'][45] = 12.9764122\n",
    "locations['longitude'][45] = 77.6017437\n",
    "locations['latitude'][79] = 13.0163\n",
    "locations['longitude'][79] = 77.6785\n",
    "locations['latitude'][85] = 13.0068\n",
    "locations['longitude'][85] = 77.5813"
   ]
  },
  {
   "cell_type": "code",
   "execution_count": 63,
   "id": "e5b0466c",
   "metadata": {},
   "outputs": [],
   "source": [
    "df = df.dropna(subset = ['cuisines'])"
   ]
  },
  {
   "cell_type": "code",
   "execution_count": 64,
   "id": "1e8c7c67",
   "metadata": {},
   "outputs": [],
   "source": [
    "north_india = df[df['cuisines'].str.contains('North Indian')]"
   ]
  },
  {
   "cell_type": "code",
   "execution_count": 65,
   "id": "d63b9dd2",
   "metadata": {},
   "outputs": [
    {
     "data": {
      "text/plain": [
       "(21085, 18)"
      ]
     },
     "execution_count": 65,
     "metadata": {},
     "output_type": "execute_result"
    }
   ],
   "source": [
    "north_india.shape"
   ]
  },
  {
   "cell_type": "code",
   "execution_count": 99,
   "id": "fbbff61a",
   "metadata": {},
   "outputs": [],
   "source": [
    "north_india_rest_count = north_india['location'].value_counts().reset_index().rename(columns = {'location':'name'})"
   ]
  },
  {
   "cell_type": "code",
   "execution_count": 100,
   "id": "00c5e858",
   "metadata": {},
   "outputs": [],
   "source": [
    "import folium\n",
    "from folium.plugins import HeatMap"
   ]
  },
  {
   "cell_type": "code",
   "execution_count": 101,
   "id": "70a446d6",
   "metadata": {},
   "outputs": [],
   "source": [
    "heatmap_df = north_india_rest_count.merge(locations, on = 'name', how = 'left')"
   ]
  },
  {
   "cell_type": "code",
   "execution_count": 102,
   "id": "87913390",
   "metadata": {},
   "outputs": [
    {
     "data": {
      "text/plain": [
       "<folium.plugins.heat_map.HeatMap at 0x2149ac263d0>"
      ]
     },
     "execution_count": 102,
     "metadata": {},
     "output_type": "execute_result"
    }
   ],
   "source": [
    "HeatMap(heatmap_df[['latitude', 'longitude', 'count']]).add_to(basemap)"
   ]
  },
  {
   "cell_type": "code",
   "execution_count": 103,
   "id": "0fbd6b84",
   "metadata": {},
   "outputs": [
    {
     "data": {
      "text/html": [
       "<div style=\"width:100%;\"><div style=\"position:relative;width:100%;height:0;padding-bottom:60%;\"><span style=\"color:#565656\">Make this Notebook Trusted to load map: File -> Trust Notebook</span><iframe srcdoc=\"&lt;!DOCTYPE html&gt;\n",
       "&lt;html&gt;\n",
       "&lt;head&gt;\n",
       "    \n",
       "    &lt;meta http-equiv=&quot;content-type&quot; content=&quot;text/html; charset=UTF-8&quot; /&gt;\n",
       "    \n",
       "        &lt;script&gt;\n",
       "            L_NO_TOUCH = false;\n",
       "            L_DISABLE_3D = false;\n",
       "        &lt;/script&gt;\n",
       "    \n",
       "    &lt;style&gt;html, body {width: 100%;height: 100%;margin: 0;padding: 0;}&lt;/style&gt;\n",
       "    &lt;style&gt;#map {position:absolute;top:0;bottom:0;right:0;left:0;}&lt;/style&gt;\n",
       "    &lt;script src=&quot;https://cdn.jsdelivr.net/npm/leaflet@1.9.3/dist/leaflet.js&quot;&gt;&lt;/script&gt;\n",
       "    &lt;script src=&quot;https://code.jquery.com/jquery-1.12.4.min.js&quot;&gt;&lt;/script&gt;\n",
       "    &lt;script src=&quot;https://cdn.jsdelivr.net/npm/bootstrap@5.2.2/dist/js/bootstrap.bundle.min.js&quot;&gt;&lt;/script&gt;\n",
       "    &lt;script src=&quot;https://cdnjs.cloudflare.com/ajax/libs/Leaflet.awesome-markers/2.0.2/leaflet.awesome-markers.js&quot;&gt;&lt;/script&gt;\n",
       "    &lt;link rel=&quot;stylesheet&quot; href=&quot;https://cdn.jsdelivr.net/npm/leaflet@1.9.3/dist/leaflet.css&quot;/&gt;\n",
       "    &lt;link rel=&quot;stylesheet&quot; href=&quot;https://cdn.jsdelivr.net/npm/bootstrap@5.2.2/dist/css/bootstrap.min.css&quot;/&gt;\n",
       "    &lt;link rel=&quot;stylesheet&quot; href=&quot;https://netdna.bootstrapcdn.com/bootstrap/3.0.0/css/bootstrap.min.css&quot;/&gt;\n",
       "    &lt;link rel=&quot;stylesheet&quot; href=&quot;https://cdn.jsdelivr.net/npm/@fortawesome/fontawesome-free@6.2.0/css/all.min.css&quot;/&gt;\n",
       "    &lt;link rel=&quot;stylesheet&quot; href=&quot;https://cdnjs.cloudflare.com/ajax/libs/Leaflet.awesome-markers/2.0.2/leaflet.awesome-markers.css&quot;/&gt;\n",
       "    &lt;link rel=&quot;stylesheet&quot; href=&quot;https://cdn.jsdelivr.net/gh/python-visualization/folium/folium/templates/leaflet.awesome.rotate.min.css&quot;/&gt;\n",
       "    \n",
       "            &lt;meta name=&quot;viewport&quot; content=&quot;width=device-width,\n",
       "                initial-scale=1.0, maximum-scale=1.0, user-scalable=no&quot; /&gt;\n",
       "            &lt;style&gt;\n",
       "                #map_0d7393184550971ebc8657af397aabd7 {\n",
       "                    position: relative;\n",
       "                    width: 100.0%;\n",
       "                    height: 100.0%;\n",
       "                    left: 0.0%;\n",
       "                    top: 0.0%;\n",
       "                }\n",
       "                .leaflet-container { font-size: 1rem; }\n",
       "            &lt;/style&gt;\n",
       "        \n",
       "    &lt;script src=&quot;https://cdn.jsdelivr.net/gh/python-visualization/folium@main/folium/templates/leaflet_heat.min.js&quot;&gt;&lt;/script&gt;\n",
       "&lt;/head&gt;\n",
       "&lt;body&gt;\n",
       "    \n",
       "    \n",
       "            &lt;div class=&quot;folium-map&quot; id=&quot;map_0d7393184550971ebc8657af397aabd7&quot; &gt;&lt;/div&gt;\n",
       "        \n",
       "&lt;/body&gt;\n",
       "&lt;script&gt;\n",
       "    \n",
       "    \n",
       "            var map_0d7393184550971ebc8657af397aabd7 = L.map(\n",
       "                &quot;map_0d7393184550971ebc8657af397aabd7&quot;,\n",
       "                {\n",
       "                    center: [0, 0],\n",
       "                    crs: L.CRS.EPSG3857,\n",
       "                    zoom: 1,\n",
       "                    zoomControl: true,\n",
       "                    preferCanvas: false,\n",
       "                }\n",
       "            );\n",
       "\n",
       "            \n",
       "\n",
       "        \n",
       "    \n",
       "            var tile_layer_2e2eadb2b4ac1797b5d0c132161193fb = L.tileLayer(\n",
       "                &quot;https://{s}.tile.openstreetmap.org/{z}/{x}/{y}.png&quot;,\n",
       "                {&quot;attribution&quot;: &quot;Data by \\u0026copy; \\u003ca target=\\&quot;_blank\\&quot; href=\\&quot;http://openstreetmap.org\\&quot;\\u003eOpenStreetMap\\u003c/a\\u003e, under \\u003ca target=\\&quot;_blank\\&quot; href=\\&quot;http://www.openstreetmap.org/copyright\\&quot;\\u003eODbL\\u003c/a\\u003e.&quot;, &quot;detectRetina&quot;: false, &quot;maxNativeZoom&quot;: 18, &quot;maxZoom&quot;: 18, &quot;minZoom&quot;: 0, &quot;noWrap&quot;: false, &quot;opacity&quot;: 1, &quot;subdomains&quot;: &quot;abc&quot;, &quot;tms&quot;: false}\n",
       "            ).addTo(map_0d7393184550971ebc8657af397aabd7);\n",
       "        \n",
       "    \n",
       "            var heat_map_f3958c9654a155fcfd6ef884c59ce1d0 = L.heatLayer(\n",
       "                [[12.911275849999999, 77.60456543431182, 2469.0], [29.1523467, 75.7245798, 1123.0], [53.5533682, -2.2969019, 1059.0], [12.9552572, 77.6984163, 1038.0], [12.2655944, 76.6465404, 958.0], [12.9348429, 77.6189768, 755.0], [12.9088191, 77.6003196, 701.0], [12.9732913, 77.6404672, 678.0], [12.848759900000001, 77.64825295827616, 675.0], [27.3493013, 95.3159407, 664.0], [12.93103185, 77.6782471, 659.0], [12.9277245, 77.6327822, 601.0], [12.9240361, 77.6394335, 529.0], [12.9390255, 77.6238477, 408.0], [12.9364846, 77.6134783, 390.0], [12.9778793, 77.6246697, 376.0], [12.9755264, 77.6067902, 359.0], [12.9327778, 77.6294052, 351.0], [44.621621, -84.790422, 323.0], [40.6035896, -74.0925472, 312.0], [15.8876779, 75.7046777, 309.0], [33.5935063, -79.0345627, 282.0], [18.532248199999998, 73.84990967997429, 272.0], [13.0375538, 77.565566, 267.0], [19.1602288, 76.2772822, 262.0], [12.9882338, 77.554883, 230.0], [13.0141618, 77.6518539, 227.0], [52.6291666, 1.2394086, 224.0], [21.2742644, 79.4108959, 223.0], [13.0027353, 77.5703253, 215.0], [24.593839, 73.6968527, 214.0], [41.528338, -71.286422, 214.0], [12.945245, 77.6269144, 202.0], [12.9986827, 77.615525, 201.0], [12.9624669, 77.6381958, 199.0], [13.8345913, 75.7339359, 189.0], [13.0093455, 77.6377094, 175.0], [40.7596221, -73.5780855, 173.0], [12.9489339, 77.5968273, 132.0], [12.9089453, 77.6239038, 129.0], [40.7718677, -76.3704696, 128.0], [17.4938648, 78.3862078, 127.0], [12.9764122, 77.6017437, 121.0], [12.9678074, 77.6568367, 117.0], [12.9408685, 77.617338, 103.0], [12.9081487, 77.5553179, 98.0], [13.2227, 78.5541977, 96.0], [12.9282918, 77.6254034, 84.0], [12.9931876, 77.5753419, 83.0], [12.973936, 77.6509982, 78.0], [51.5186529, -0.0744207, 76.0], [-33.8368845, 18.6449847, 76.0], [12.8292991, 77.681572, 73.0], [13.02383, 77.5529215, 72.0], [1.2847055, 103.84320655721689, 69.0], [13.0258087, 77.6305067, 68.0], [12.9932236, 77.5391579, 65.0], [34.263019, -77.8935868, 61.0], [39.76880625, -86.15345077251979, 58.0], [12.9243692, 77.6242433, 58.0], [13.0227204, 77.595715, 51.0], [13.0358698, 77.6323597, 51.0], [12.9768424, 77.7103746, 50.0], [12.9846713, 77.6790908, 47.0], [12.9413238, 77.7471103, 47.0], [6.9233338, 93.9046149, 35.0], [30.1915796, 74.9408769, 34.0], [52.49148485, 1.2372484335227272, 31.0], [17.2510682, 80.1651978, 30.0], [12.957998, 77.6037312, 22.0], [13.0068, 77.5813, 20.0], [12.9340114, 77.6222304, 19.0], [13.6285774, 77.4642026, 19.0], [52.6997314, -2.0180248, 17.0], [12.8775081, 77.5445241, 16.0], [13.0163, 77.6785, 14.0], [12.8504319, 77.6601401, 14.0], [12.9950212, 77.5526703, 13.0], [12.9055682, 77.5455438, 13.0], [12.9756527, 77.5553548, 12.0], [13.007516, 77.695935, 12.0], [12.9467026, 77.5300705, 11.0], [13.0566271, 77.7678493, 7.0], [12.9767936, 77.590082, 6.0], [12.9841958, 77.51919296908994, 5.0], [13.0382184, 77.5919, 4.0], [13.0784743, 77.6068938, 3.0], [12.9900034, 77.5721128, 2.0], [51.41300185, -1.3153145080163684, 1.0], [13.0329419, 77.5273253, 1.0]],\n",
       "                {&quot;blur&quot;: 15, &quot;maxZoom&quot;: 18, &quot;minOpacity&quot;: 0.5, &quot;radius&quot;: 25}\n",
       "            ).addTo(map_0d7393184550971ebc8657af397aabd7);\n",
       "        \n",
       "&lt;/script&gt;\n",
       "&lt;/html&gt;\" style=\"position:absolute;width:100%;height:100%;left:0;top:0;border:none !important;\" allowfullscreen webkitallowfullscreen mozallowfullscreen></iframe></div></div>"
      ],
      "text/plain": [
       "<folium.folium.Map at 0x2144994d890>"
      ]
     },
     "execution_count": 103,
     "metadata": {},
     "output_type": "execute_result"
    }
   ],
   "source": [
    "basemap"
   ]
  },
  {
   "cell_type": "code",
   "execution_count": 104,
   "id": "b758f91f",
   "metadata": {},
   "outputs": [],
   "source": [
    "def get_heatmap(cuisine):\n",
    "    cuisine_df = df[df['cuisines'].str.contains(cuisine)]\n",
    "    cuisine_rest_count = cuisine_df['location'].value_counts().reset_index().rename(columns = {'location':'name'})\n",
    "    heatmap_df =  cuisine_rest_count.merge(locations, on = 'name', how = 'left')\n",
    "    basemap = folium.Map()\n",
    "    HeatMap(heatmap_df[['latitude', 'longitude', 'count']]).add_to(basemap)\n",
    "    return basemap"
   ]
  },
  {
   "cell_type": "code",
   "execution_count": 106,
   "id": "be9eed83",
   "metadata": {},
   "outputs": [
    {
     "data": {
      "text/html": [
       "<div style=\"width:100%;\"><div style=\"position:relative;width:100%;height:0;padding-bottom:60%;\"><span style=\"color:#565656\">Make this Notebook Trusted to load map: File -> Trust Notebook</span><iframe srcdoc=\"&lt;!DOCTYPE html&gt;\n",
       "&lt;html&gt;\n",
       "&lt;head&gt;\n",
       "    \n",
       "    &lt;meta http-equiv=&quot;content-type&quot; content=&quot;text/html; charset=UTF-8&quot; /&gt;\n",
       "    \n",
       "        &lt;script&gt;\n",
       "            L_NO_TOUCH = false;\n",
       "            L_DISABLE_3D = false;\n",
       "        &lt;/script&gt;\n",
       "    \n",
       "    &lt;style&gt;html, body {width: 100%;height: 100%;margin: 0;padding: 0;}&lt;/style&gt;\n",
       "    &lt;style&gt;#map {position:absolute;top:0;bottom:0;right:0;left:0;}&lt;/style&gt;\n",
       "    &lt;script src=&quot;https://cdn.jsdelivr.net/npm/leaflet@1.9.3/dist/leaflet.js&quot;&gt;&lt;/script&gt;\n",
       "    &lt;script src=&quot;https://code.jquery.com/jquery-1.12.4.min.js&quot;&gt;&lt;/script&gt;\n",
       "    &lt;script src=&quot;https://cdn.jsdelivr.net/npm/bootstrap@5.2.2/dist/js/bootstrap.bundle.min.js&quot;&gt;&lt;/script&gt;\n",
       "    &lt;script src=&quot;https://cdnjs.cloudflare.com/ajax/libs/Leaflet.awesome-markers/2.0.2/leaflet.awesome-markers.js&quot;&gt;&lt;/script&gt;\n",
       "    &lt;link rel=&quot;stylesheet&quot; href=&quot;https://cdn.jsdelivr.net/npm/leaflet@1.9.3/dist/leaflet.css&quot;/&gt;\n",
       "    &lt;link rel=&quot;stylesheet&quot; href=&quot;https://cdn.jsdelivr.net/npm/bootstrap@5.2.2/dist/css/bootstrap.min.css&quot;/&gt;\n",
       "    &lt;link rel=&quot;stylesheet&quot; href=&quot;https://netdna.bootstrapcdn.com/bootstrap/3.0.0/css/bootstrap.min.css&quot;/&gt;\n",
       "    &lt;link rel=&quot;stylesheet&quot; href=&quot;https://cdn.jsdelivr.net/npm/@fortawesome/fontawesome-free@6.2.0/css/all.min.css&quot;/&gt;\n",
       "    &lt;link rel=&quot;stylesheet&quot; href=&quot;https://cdnjs.cloudflare.com/ajax/libs/Leaflet.awesome-markers/2.0.2/leaflet.awesome-markers.css&quot;/&gt;\n",
       "    &lt;link rel=&quot;stylesheet&quot; href=&quot;https://cdn.jsdelivr.net/gh/python-visualization/folium/folium/templates/leaflet.awesome.rotate.min.css&quot;/&gt;\n",
       "    \n",
       "            &lt;meta name=&quot;viewport&quot; content=&quot;width=device-width,\n",
       "                initial-scale=1.0, maximum-scale=1.0, user-scalable=no&quot; /&gt;\n",
       "            &lt;style&gt;\n",
       "                #map_4336ac5d8b97b2cf325cb37d9d40192a {\n",
       "                    position: relative;\n",
       "                    width: 100.0%;\n",
       "                    height: 100.0%;\n",
       "                    left: 0.0%;\n",
       "                    top: 0.0%;\n",
       "                }\n",
       "                .leaflet-container { font-size: 1rem; }\n",
       "            &lt;/style&gt;\n",
       "        \n",
       "    &lt;script src=&quot;https://cdn.jsdelivr.net/gh/python-visualization/folium@main/folium/templates/leaflet_heat.min.js&quot;&gt;&lt;/script&gt;\n",
       "&lt;/head&gt;\n",
       "&lt;body&gt;\n",
       "    \n",
       "    \n",
       "            &lt;div class=&quot;folium-map&quot; id=&quot;map_4336ac5d8b97b2cf325cb37d9d40192a&quot; &gt;&lt;/div&gt;\n",
       "        \n",
       "&lt;/body&gt;\n",
       "&lt;script&gt;\n",
       "    \n",
       "    \n",
       "            var map_4336ac5d8b97b2cf325cb37d9d40192a = L.map(\n",
       "                &quot;map_4336ac5d8b97b2cf325cb37d9d40192a&quot;,\n",
       "                {\n",
       "                    center: [0, 0],\n",
       "                    crs: L.CRS.EPSG3857,\n",
       "                    zoom: 1,\n",
       "                    zoomControl: true,\n",
       "                    preferCanvas: false,\n",
       "                }\n",
       "            );\n",
       "\n",
       "            \n",
       "\n",
       "        \n",
       "    \n",
       "            var tile_layer_05feec04f82c52f3e775df9253d8ec66 = L.tileLayer(\n",
       "                &quot;https://{s}.tile.openstreetmap.org/{z}/{x}/{y}.png&quot;,\n",
       "                {&quot;attribution&quot;: &quot;Data by \\u0026copy; \\u003ca target=\\&quot;_blank\\&quot; href=\\&quot;http://openstreetmap.org\\&quot;\\u003eOpenStreetMap\\u003c/a\\u003e, under \\u003ca target=\\&quot;_blank\\&quot; href=\\&quot;http://www.openstreetmap.org/copyright\\&quot;\\u003eODbL\\u003c/a\\u003e.&quot;, &quot;detectRetina&quot;: false, &quot;maxNativeZoom&quot;: 18, &quot;maxZoom&quot;: 18, &quot;minZoom&quot;: 0, &quot;noWrap&quot;: false, &quot;opacity&quot;: 1, &quot;subdomains&quot;: &quot;abc&quot;, &quot;tms&quot;: false}\n",
       "            ).addTo(map_4336ac5d8b97b2cf325cb37d9d40192a);\n",
       "        \n",
       "    \n",
       "            var heat_map_cae0db2255c259e804ae9716e1d56111 = L.heatLayer(\n",
       "                [[12.911275849999999, 77.60456543431182, 1824.0], [29.1523467, 75.7245798, 760.0], [12.9348429, 77.6189768, 730.0], [12.9552572, 77.6984163, 668.0], [12.2655944, 76.6465404, 633.0], [53.5533682, -2.2969019, 629.0], [27.3493013, 95.3159407, 570.0], [12.9088191, 77.6003196, 510.0], [12.848759900000001, 77.64825295827616, 509.0], [12.9732913, 77.6404672, 466.0], [12.93103185, 77.6782471, 375.0], [12.9277245, 77.6327822, 356.0], [44.621621, -84.790422, 349.0], [12.9390255, 77.6238477, 322.0], [12.9240361, 77.6394335, 311.0], [12.9364846, 77.6134783, 284.0], [12.9327778, 77.6294052, 278.0], [15.8876779, 75.7046777, 259.0], [33.5935063, -79.0345627, 254.0], [13.0141618, 77.6518539, 254.0], [12.9778793, 77.6246697, 245.0], [12.9755264, 77.6067902, 242.0], [40.6035896, -74.0925472, 233.0], [13.0093455, 77.6377094, 211.0], [12.9882338, 77.554883, 204.0], [12.9986827, 77.615525, 200.0], [13.0375538, 77.565566, 196.0], [24.593839, 73.6968527, 194.0], [12.945245, 77.6269144, 186.0], [21.2742644, 79.4108959, 174.0], [52.6291666, 1.2394086, 170.0], [19.1602288, 76.2772822, 170.0], [18.532248199999998, 73.84990967997429, 162.0], [13.0027353, 77.5703253, 157.0], [13.8345913, 75.7339359, 156.0], [41.528338, -71.286422, 145.0], [12.9624669, 77.6381958, 120.0], [40.7596221, -73.5780855, 105.0], [12.9089453, 77.6239038, 101.0], [12.9408685, 77.617338, 100.0], [12.9081487, 77.5553179, 99.0], [17.4938648, 78.3862078, 94.0], [12.9489339, 77.5968273, 92.0], [34.263019, -77.8935868, 79.0], [13.2227, 78.5541977, 76.0], [12.9931876, 77.5753419, 67.0], [12.9678074, 77.6568367, 66.0], [13.0358698, 77.6323597, 65.0], [13.02383, 77.5529215, 65.0], [12.9282918, 77.6254034, 62.0], [12.9764122, 77.6017437, 61.0], [12.973936, 77.6509982, 60.0], [51.5186529, -0.0744207, 59.0], [40.7718677, -76.3704696, 57.0], [13.0258087, 77.6305067, 56.0], [1.2847055, 103.84320655721689, 55.0], [12.8292991, 77.681572, 54.0], [12.9932236, 77.5391579, 53.0], [39.76880625, -86.15345077251979, 50.0], [13.0227204, 77.595715, 44.0], [12.9846713, 77.6790908, 37.0], [12.9243692, 77.6242433, 36.0], [6.9233338, 93.9046149, 32.0], [-33.8368845, 18.6449847, 31.0], [12.9413238, 77.7471103, 26.0], [12.9768424, 77.7103746, 21.0], [30.1915796, 74.9408769, 21.0], [52.49148485, 1.2372484335227272, 20.0], [13.007516, 77.695935, 17.0], [13.0566271, 77.7678493, 17.0], [13.0068, 77.5813, 17.0], [12.8775081, 77.5445241, 16.0], [17.2510682, 80.1651978, 14.0], [13.6285774, 77.4642026, 14.0], [12.9055682, 77.5455438, 13.0], [12.9340114, 77.6222304, 12.0], [12.9950212, 77.5526703, 9.0], [12.9467026, 77.5300705, 9.0], [12.9756527, 77.5553548, 9.0], [12.8504319, 77.6601401, 8.0], [52.6997314, -2.0180248, 8.0], [12.9841958, 77.51919296908994, 8.0], [13.0382184, 77.5919, 6.0], [13.0163, 77.6785, 6.0], [12.9767936, 77.590082, 6.0], [13.0784743, 77.6068938, 3.0], [12.9900034, 77.5721128, 2.0], [51.41300185, -1.3153145080163684, 1.0], [12.9274413, 77.5155224, 1.0], [13.0329419, 77.5273253, 1.0]],\n",
       "                {&quot;blur&quot;: 15, &quot;maxZoom&quot;: 18, &quot;minOpacity&quot;: 0.5, &quot;radius&quot;: 25}\n",
       "            ).addTo(map_4336ac5d8b97b2cf325cb37d9d40192a);\n",
       "        \n",
       "&lt;/script&gt;\n",
       "&lt;/html&gt;\" style=\"position:absolute;width:100%;height:100%;left:0;top:0;border:none !important;\" allowfullscreen webkitallowfullscreen mozallowfullscreen></iframe></div></div>"
      ],
      "text/plain": [
       "<folium.folium.Map at 0x21499932a50>"
      ]
     },
     "execution_count": 106,
     "metadata": {},
     "output_type": "execute_result"
    }
   ],
   "source": [
    "get_heatmap('Chinese')"
   ]
  },
  {
   "cell_type": "code",
   "execution_count": null,
   "id": "8721d8d8",
   "metadata": {},
   "outputs": [],
   "source": []
  }
 ],
 "metadata": {
  "kernelspec": {
   "display_name": "Python 3 (ipykernel)",
   "language": "python",
   "name": "python3"
  },
  "language_info": {
   "codemirror_mode": {
    "name": "ipython",
    "version": 3
   },
   "file_extension": ".py",
   "mimetype": "text/x-python",
   "name": "python",
   "nbconvert_exporter": "python",
   "pygments_lexer": "ipython3",
   "version": "3.11.5"
  }
 },
 "nbformat": 4,
 "nbformat_minor": 5
}
